{
 "cells": [
  {
   "cell_type": "markdown",
   "metadata": {},
   "source": [
    "# Condicionales (sentencia if, if else, elseif ) y operadores lógicos"
   ]
  },
  {
   "cell_type": "markdown",
   "metadata": {},
   "source": [
    "## Operadores lógicos"
   ]
  },
  {
   "cell_type": "markdown",
   "metadata": {},
   "source": [
    "Existen tres operadorfes lógicos: <code> && </code> (y),  <code>||</code> (o) y  <code>!</code> (negación). La semántica(significado) de estos operadores es la misma que su significado en español."
   ]
  },
  {
   "cell_type": "code",
   "execution_count": 46,
   "metadata": {},
   "outputs": [],
   "source": [
    "### Definimos x,y,z\n",
    "x=9\n",
    "y=5\n",
    "z=3;"
   ]
  },
  {
   "cell_type": "code",
   "execution_count": 23,
   "metadata": {},
   "outputs": [
    {
     "data": {
      "text/plain": [
       "false"
      ]
     },
     "execution_count": 23,
     "metadata": {},
     "output_type": "execute_result"
    }
   ],
   "source": [
    "(x < y) && (x > z)"
   ]
  },
  {
   "cell_type": "code",
   "execution_count": 24,
   "metadata": {},
   "outputs": [
    {
     "data": {
      "text/plain": [
       "true"
      ]
     },
     "execution_count": 24,
     "metadata": {},
     "output_type": "execute_result"
    }
   ],
   "source": [
    "(x < y) || (x > z)"
   ]
  },
  {
   "cell_type": "code",
   "execution_count": 26,
   "metadata": {},
   "outputs": [
    {
     "data": {
      "text/plain": [
       "true"
      ]
     },
     "execution_count": 26,
     "metadata": {},
     "output_type": "execute_result"
    }
   ],
   "source": [
    "!(x < y)"
   ]
  },
  {
   "cell_type": "markdown",
   "metadata": {},
   "source": [
    "## Condicionales"
   ]
  },
  {
   "cell_type": "markdown",
   "metadata": {},
   "source": [
    "Condicional <code>if</code> simple, si la condición se satisface se ejecutan las instrucciones dentro del <code>if</code>, instrucciones indentadas. En caso contrario, No sucede nada.\n",
    "\n",
    "<code>if(condición)\n",
    "    instrucción 1\n",
    "    instrucción 2\n",
    "    ...\n",
    "end\n",
    "</code>"
   ]
  },
  {
   "cell_type": "code",
   "execution_count": 29,
   "metadata": {},
   "outputs": [],
   "source": [
    "if x > 0\n",
    "    println(\"$x es positivo\")\n",
    "end"
   ]
  },
  {
   "cell_type": "markdown",
   "metadata": {},
   "source": [
    "Condicional <code>if...else</code>, si la condición primera se satisface se ejecutan las instrucciones dentro del <code>if</code>, instrucciones indentadas. Si no, se ejecutan las instrucciones dentro del <code>else</code>.\n",
    "\n",
    "<code>if(condición)\n",
    "    instrucción 1\n",
    "    instrucción 2\n",
    "    ...\n",
    "else\n",
    "    instrucción 1'\n",
    "    instrucción 2'\n",
    "    ...\n",
    "end\n",
    "</code>\n",
    "\n",
    "Cada \"alternativa\" se le llama rama, ya que son ramas en el flujo de ejecución de nuestro programa"
   ]
  },
  {
   "cell_type": "code",
   "execution_count": 30,
   "metadata": {},
   "outputs": [
    {
     "name": "stdout",
     "output_type": "stream",
     "text": [
      "-1 NO es positivo\n"
     ]
    }
   ],
   "source": [
    "if x > 0\n",
    "    println(\"$x es positivo\")\n",
    "else\n",
    "    println(\"$x NO es positivo\")\n",
    "end"
   ]
  },
  {
   "cell_type": "markdown",
   "metadata": {},
   "source": [
    "Condicional encadenado <code>if...elseif...</code>. A veces existe más de dos posibilidades y necesitamos más ramas. Esto lo logramos con <code>elseif</code>. Cada condición es verificada, la primera en ser satisfecha se ejecuta.\n",
    "\n",
    "<code>if(condición1)\n",
    "    instrucción 1\n",
    "    instrucción 2\n",
    "    ...\n",
    "elseif(condición2)\n",
    "    instrucción 1'\n",
    "    instrucción 2'\n",
    "    ...\n",
    "elseif(condición3)\n",
    "    instrucción 1''\n",
    "    instrucción 2''\n",
    "    ...\n",
    "end\n",
    "</code>"
   ]
  },
  {
   "cell_type": "code",
   "execution_count": 41,
   "metadata": {},
   "outputs": [
    {
     "name": "stdout",
     "output_type": "stream",
     "text": [
      "12 es positivo\n"
     ]
    }
   ],
   "source": [
    "if x > 0\n",
    "    println(\"$x es positivo\")\n",
    "elseif x < 0\n",
    "    println(\"$x es negativo\")\n",
    "elseif x == 0 ### notemos que es == ya que este denota la igualda, un símbolo = denota la asignación de valor\n",
    "    println(\"$x es igual a cero\")\n",
    "end"
   ]
  },
  {
   "cell_type": "markdown",
   "metadata": {},
   "source": [
    "Los condicionales pueden anidarse. Primero se verifican los condicionales de \"afuera\", una vez que se satisface uno de ellos, se entra en él y se verfican los condicionales internos. \n",
    "\n",
    "Lo ideal es evitarlos para mejorar la legibilidad de nuestro código."
   ]
  },
  {
   "cell_type": "code",
   "execution_count": 42,
   "metadata": {},
   "outputs": [],
   "source": [
    "if 0 < x\n",
    "    if x < 10\n",
    "        println(\"$x es un número positivo de un solo dígito.\")\n",
    "    end ## recuerda cerrar cada if\n",
    "end"
   ]
  },
  {
   "cell_type": "markdown",
   "metadata": {},
   "source": [
    "El código anterior podemos reescribirlo como:"
   ]
  },
  {
   "cell_type": "code",
   "execution_count": 45,
   "metadata": {},
   "outputs": [
    {
     "name": "stdout",
     "output_type": "stream",
     "text": [
      "9 es un número positivo de un solo dígito.\n"
     ]
    }
   ],
   "source": [
    "if 0 < x && x < 10\n",
    "    println(\"$x es un número positivo de un solo dígito.\")\n",
    "end"
   ]
  },
  {
   "cell_type": "markdown",
   "metadata": {},
   "source": [
    "Sencillo código que verifica si un número natural dado es divisible entre 6. Sabemos que un número es divisible entre 6 si es divisible entre 2 y es divisible entre 3.\n",
    "\n",
    "Recordemos que el operador % nos regresa el residuo de la división. \n",
    "\n",
    "Si <code>x % 2 == 0</code> es porque al dividir x entre 2, obtenemos 0 como residuo. Esto indica que x es algun múltiplo de 2. "
   ]
  },
  {
   "cell_type": "code",
   "execution_count": 49,
   "metadata": {},
   "outputs": [
    {
     "name": "stdout",
     "output_type": "stream",
     "text": [
      "Ingresa un número entero:\n",
      "stdin> 7\n",
      "7 NO es divisible ni entre 2 ni entre 3\n"
     ]
    }
   ],
   "source": [
    "println(\"Ingresa un número entero:\")\n",
    "num = readline()\n",
    "x = parse(Int64, num)\n",
    "if x%2 == 0 && x%3 == 0\n",
    "    println(\"$x es divisible entre 6\")\n",
    "elseif x%2 == 0 || x%3 == 0\n",
    "    println(\"$x es divisible entre 2 o entre 3\")\n",
    "else\n",
    "    println(\"$x NO es divisible ni entre 2 ni entre 3\")\n",
    "end"
   ]
  },
  {
   "cell_type": "markdown",
   "metadata": {},
   "source": [
    "## Ejercicio"
   ]
  },
  {
   "cell_type": "markdown",
   "metadata": {},
   "source": [
    "Recordemos que podemos calcular las raíces de un polinomio $p(x)=ax^2+bx+c$, con $a\\neq0$, de segundo grado de una variable con la fórmula general:\n",
    "\n",
    "$$x_{1,2} = \\frac{-b \\pm \\sqrt{b^2 - 4ac}}{2a}$$\n",
    "\n",
    "**Ejercicio** Escribe un programa en Julia, usando <code>if...elseif...else</code> que determine si el polinomio que ingresamos tiene  2 raíces reales y de ser así que las calcule. Si tiene una raíz real de multiplicidad doble y de ser así que la calcule. En otro caso que nos imprima que el polinomio NO tiene raíces reales.\n",
    "\n",
    "**Nota:**  El polinomio tendrá dos raíces reales siempre que: $b^2 - 4ac > 0$. Tendrá una raíz real de multiplicidad doble si $b^2 - 4ac = 0$. Y tendrá dos raíces complejas en otro caso."
   ]
  },
  {
   "cell_type": "code",
   "execution_count": null,
   "metadata": {},
   "outputs": [],
   "source": []
  }
 ],
 "metadata": {
  "kernelspec": {
   "display_name": "Julia 1.5.3",
   "language": "julia",
   "name": "julia-1.5"
  },
  "language_info": {
   "file_extension": ".jl",
   "mimetype": "application/julia",
   "name": "julia",
   "version": "1.5.3"
  }
 },
 "nbformat": 4,
 "nbformat_minor": 4
}
